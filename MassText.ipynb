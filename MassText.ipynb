{
  "nbformat": 4,
  "nbformat_minor": 0,
  "metadata": {
    "colab": {
      "provenance": [],
      "authorship_tag": "ABX9TyNWTG81iTYCPLSyIkqz8L2T",
      "include_colab_link": true
    },
    "kernelspec": {
      "name": "python3",
      "display_name": "Python 3"
    },
    "language_info": {
      "name": "python"
    }
  },
  "cells": [
    {
      "cell_type": "markdown",
      "metadata": {
        "id": "view-in-github",
        "colab_type": "text"
      },
      "source": [
        "<a href=\"https://colab.research.google.com/github/haydenfseager/text-message-invites/blob/main/MassText.ipynb\" target=\"_parent\"><img src=\"https://colab.research.google.com/assets/colab-badge.svg\" alt=\"Open In Colab\"/></a>"
      ]
    },
    {
      "cell_type": "code",
      "source": [
        "pip install twilio"
      ],
      "metadata": {
        "colab": {
          "base_uri": "https://localhost:8080/"
        },
        "id": "_phhp4-FJNYa",
        "outputId": "d35ae28b-1a8a-4df7-fb71-44f271009eae"
      },
      "execution_count": 1,
      "outputs": [
        {
          "output_type": "stream",
          "name": "stdout",
          "text": [
            "Looking in indexes: https://pypi.org/simple, https://us-python.pkg.dev/colab-wheels/public/simple/\n",
            "Collecting twilio\n",
            "  Downloading twilio-7.15.2-py2.py3-none-any.whl (1.4 MB)\n",
            "\u001b[K     |████████████████████████████████| 1.4 MB 4.3 MB/s \n",
            "\u001b[?25hCollecting PyJWT<3.0.0,>=2.0.0\n",
            "  Downloading PyJWT-2.6.0-py3-none-any.whl (20 kB)\n",
            "Requirement already satisfied: pytz in /usr/local/lib/python3.7/dist-packages (from twilio) (2022.6)\n",
            "Requirement already satisfied: requests>=2.0.0 in /usr/local/lib/python3.7/dist-packages (from twilio) (2.23.0)\n",
            "Requirement already satisfied: certifi>=2017.4.17 in /usr/local/lib/python3.7/dist-packages (from requests>=2.0.0->twilio) (2022.9.24)\n",
            "Requirement already satisfied: urllib3!=1.25.0,!=1.25.1,<1.26,>=1.21.1 in /usr/local/lib/python3.7/dist-packages (from requests>=2.0.0->twilio) (1.24.3)\n",
            "Requirement already satisfied: idna<3,>=2.5 in /usr/local/lib/python3.7/dist-packages (from requests>=2.0.0->twilio) (2.10)\n",
            "Requirement already satisfied: chardet<4,>=3.0.2 in /usr/local/lib/python3.7/dist-packages (from requests>=2.0.0->twilio) (3.0.4)\n",
            "Installing collected packages: PyJWT, twilio\n",
            "Successfully installed PyJWT-2.6.0 twilio-7.15.2\n"
          ]
        }
      ]
    },
    {
      "cell_type": "code",
      "source": [
        "# import pandas lib as pd for access to excel spreadsheet\n",
        "import pandas as pd\n",
        "\n",
        "# read by default 1st sheet of an excel file\n",
        "df = pd.read_csv('Name of your CSV file of phone numbers')\n",
        "phone_number_list  = df['Column Name'].to_string(index=False).split()\n",
        "for i in range(len(phone_number_list)):\n",
        "    # I did this because all the phone numbers I used were from the USA\n",
        "    phone_number_list[i] = '+1' + phone_number_list[i]\n",
        "print(phone_number_list) # Test just to make sure\n",
        "\n"
      ],
      "metadata": {
        "colab": {
          "base_uri": "https://localhost:8080/"
        },
        "id": "E56Jir36X6O9",
        "outputId": "a39693f2-d783-4958-bfd8-e0c3a32e4e51"
      },
      "execution_count": null,
      "outputs": [
        {
          "output_type": "stream",
          "name": "stdout",
          "text": [
            "+19543948895\n"
          ]
        }
      ]
    },
    {
      "cell_type": "code",
      "execution_count": 2,
      "metadata": {
        "colab": {
          "base_uri": "https://localhost:8080/",
          "height": 235
        },
        "id": "ymrSz5fqH-s6",
        "outputId": "d78646d4-4ac1-4e59-b4bf-0ac720234f0b"
      },
      "outputs": [
        {
          "output_type": "error",
          "ename": "NameError",
          "evalue": "ignored",
          "traceback": [
            "\u001b[0;31m---------------------------------------------------------------------------\u001b[0m",
            "\u001b[0;31mNameError\u001b[0m                                 Traceback (most recent call last)",
            "\u001b[0;32m<ipython-input-2-32cec1b43909>\u001b[0m in \u001b[0;36m<module>\u001b[0;34m\u001b[0m\n\u001b[1;32m      9\u001b[0m \u001b[0;34m\u001b[0m\u001b[0m\n\u001b[1;32m     10\u001b[0m \u001b[0mclient\u001b[0m  \u001b[0;34m=\u001b[0m \u001b[0mClient\u001b[0m\u001b[0;34m(\u001b[0m\u001b[0maccount_sid\u001b[0m\u001b[0;34m,\u001b[0m \u001b[0mauth_token\u001b[0m\u001b[0;34m)\u001b[0m\u001b[0;34m\u001b[0m\u001b[0;34m\u001b[0m\u001b[0m\n\u001b[0;32m---> 11\u001b[0;31m \u001b[0;32mfor\u001b[0m \u001b[0mnumber\u001b[0m \u001b[0;32min\u001b[0m \u001b[0mphone_number_list\u001b[0m\u001b[0;34m:\u001b[0m\u001b[0;34m\u001b[0m\u001b[0;34m\u001b[0m\u001b[0m\n\u001b[0m\u001b[1;32m     12\u001b[0m     \u001b[0;32mtry\u001b[0m\u001b[0;34m:\u001b[0m\u001b[0;34m\u001b[0m\u001b[0;34m\u001b[0m\u001b[0m\n\u001b[1;32m     13\u001b[0m         message = client.messages.create(\n",
            "\u001b[0;31mNameError\u001b[0m: name 'phone_number_list' is not defined"
          ]
        }
      ],
      "source": [
        "\n",
        "\n",
        "\n",
        "from twilio.rest import Client\n",
        "\n",
        "# This is a mass texting software originally designed to invite guests to a 50th bday party\n",
        "\n",
        "account_sid = 'Found on your Twilio Account'\n",
        "auth_token = 'Found on your Twilio Account'\n",
        "twilio_phone_num = 'Found on your Twilio Account'\n",
        "my_phone_num = 'Insert Phone number Here'\n",
        "\n",
        "client  = Client(account_sid, auth_token)\n",
        "for number in phone_number_list:\n",
        "    try:\n",
        "        message = client.messages.create(\n",
        "                from_= twilio_phone_num,\n",
        "                body= \"Reminder to RSVP to Hayden!\",\n",
        "                media_url='This must be a URL', # I got around this by uploading any JPG to imgur.com\n",
        "                to = number\n",
        "                )\n",
        "        print(f'{message.sid} Sent to: {number}')\n",
        "    except:\n",
        "        print(\"Couldn't send to this number\")\n",
        "\n",
        "\n"
      ]
    }
  ]
}