{
  "nbformat": 4,
  "nbformat_minor": 0,
  "metadata": {
    "colab": {
      "provenance": [],
      "authorship_tag": "ABX9TyNWTG81iTYCPLSyIkqz8L2T",
      "include_colab_link": true
    },
    "kernelspec": {
      "name": "python3",
      "display_name": "Python 3"
    },
    "language_info": {
      "name": "python"
    }
  },
  "cells": [
    {
      "cell_type": "markdown",
      "metadata": {
        "id": "view-in-github",
        "colab_type": "text"
      },
      "source": [
        "<a href=\"https://colab.research.google.com/github/haydenfseager/text-message-invites/blob/main/MassText.ipynb\" target=\"_parent\"><img src=\"https://colab.research.google.com/assets/colab-badge.svg\" alt=\"Open In Colab\"/></a>"
      ]
    },
    {
      "cell_type": "code",
      "source": [
        "pip install twilio"
      ],
      "metadata": {
        "id": "_phhp4-FJNYa"
      },
      "execution_count": null,
      "outputs": []
    },
    {
      "cell_type": "code",
      "source": [
        "# import pandas lib as pd for access to excel spreadsheet\n",
        "import pandas as pd\n",
        "\n",
        "# read by default 1st sheet of an excel file\n",
        "df = pd.read_csv('Name of your CSV file of phone numbers')\n",
        "phone_number_list  = df['Column Name'].to_string(index=False).split()\n",
        "for i in range(len(phone_number_list)):\n",
        "    # I did this because all the phone numbers I used were from the USA\n",
        "    phone_number_list[i] = '+1' + phone_number_list[i]\n",
        "print(phone_number_list) # Test just to make sure\n",
        "\n"
      ],
      "metadata": {
        "id": "E56Jir36X6O9"
      },
      "execution_count": null,
      "outputs": []
    },
    {
      "cell_type": "code",
      "execution_count": null,
      "metadata": {
        "id": "ymrSz5fqH-s6"
      },
      "outputs": [],
      "source": [
        "\n",
        "\n",
        "\n",
        "from twilio.rest import Client\n",
        "\n",
        "# This is a mass texting software originally designed to invite guests to a 50th bday party\n",
        "\n",
        "account_sid = 'Found on your Twilio Account'\n",
        "auth_token = 'Found on your Twilio Account'\n",
        "twilio_phone_num = 'Found on your Twilio Account'\n",
        "my_phone_num = 'Insert Phone number Here'\n",
        "\n",
        "client  = Client(account_sid, auth_token)\n",
        "for number in phone_number_list:\n",
        "    try:\n",
        "        message = client.messages.create(\n",
        "                from_= twilio_phone_num,\n",
        "                body= \"Reminder to RSVP to Hayden!\",\n",
        "                media_url='This must be a URL', # I got around this by uploading any JPG to imgur.com\n",
        "                to = number\n",
        "                )\n",
        "        print(f'{message.sid} Sent to: {number}')\n",
        "    except:\n",
        "        print(\"Couldn't send to this number\")\n",
        "\n",
        "\n"
      ]
    }
  ]
}